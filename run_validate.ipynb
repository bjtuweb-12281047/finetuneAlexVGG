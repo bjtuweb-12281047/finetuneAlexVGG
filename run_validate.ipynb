{
 "cells": [
  {
   "cell_type": "code",
   "execution_count": 1,
   "metadata": {
    "collapsed": false
   },
   "outputs": [
    {
     "name": "stdout",
     "output_type": "stream",
     "text": [
      "loading images ...\n",
      "> dog.jpeg\n",
      "> llama.jpeg\n",
      "> sealion.jpeg\n",
      "> zebra.jpeg\n",
      "start validation ...\n",
      "> Tibetan mastiff -> 0.9959\n",
      "> llama -> 0.9979\n",
      "> sea lion -> 0.9893\n",
      "> zebra -> 1.0000\n"
     ]
    }
   ],
   "source": [
    "%run validate.py"
   ]
  },
  {
   "cell_type": "code",
   "execution_count": null,
   "metadata": {
    "collapsed": true
   },
   "outputs": [],
   "source": []
  }
 ],
 "metadata": {
  "kernelspec": {
   "display_name": "Python 2",
   "language": "python",
   "name": "python2"
  },
  "language_info": {
   "codemirror_mode": {
    "name": "ipython",
    "version": 2
   },
   "file_extension": ".py",
   "mimetype": "text/x-python",
   "name": "python",
   "nbconvert_exporter": "python",
   "pygments_lexer": "ipython2",
   "version": "2.7.13"
  }
 },
 "nbformat": 4,
 "nbformat_minor": 0
}
