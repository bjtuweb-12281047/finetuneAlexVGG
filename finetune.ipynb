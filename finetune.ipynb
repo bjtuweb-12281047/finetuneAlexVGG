{
 "cells": [
  {
   "cell_type": "code",
   "execution_count": 1,
   "metadata": {
    "collapsed": true
   },
   "outputs": [],
   "source": [
    "import tensorflow as tf\n",
    "\n",
    "from models.alexnet import AlexNet\n",
    "from models.vgg import VGG\n",
    "from models.vgg_slim import VGGslim\n",
    "from models.inception_v3 import InceptionV3\n",
    "\n",
    "from helper.imageloader import load_image_paths_by_subfolder\n",
    "from helper.retrainer import Retrainer\n",
    "\n"
   ]
  },
  {
   "cell_type": "code",
   "execution_count": 2,
   "metadata": {
    "collapsed": true
   },
   "outputs": [],
   "source": [
    "# Set Model\n",
    "model_def = AlexNet\n",
    "\n",
    "# Input settings\n",
    "image_dir = '../../datasets/testing'\n",
    "validation_ratio = 10 # e.g. every 5th element = 1/5 = 0.2 = 20%\n",
    "skip_folder = ['yiwen']\n",
    "\n",
    "# Learning/Network params\n",
    "learning_rate = 0.005\n",
    "num_epochs = 20\n",
    "batch_size = 32\n",
    "dropout_keep_prop = 1.0 # [0.5]\n",
    "finetune_layers = ['fc6', 'fc7', 'fc8']\n",
    "\n",
    "# Hardware usage\n",
    "device = '/gpu:0'\n",
    "memory_usage = 1.0"
   ]
  },
  {
   "cell_type": "code",
   "execution_count": 3,
   "metadata": {
    "collapsed": false
   },
   "outputs": [
    {
     "name": "stdout",
     "output_type": "stream",
     "text": [
      "Looking for images in bad\n",
      "=> Found 500 images\n",
      "  => Training: 450\n",
      "  => Validation 50\n",
      "  => Labeling them with: bad (0)\n",
      "Looking for images in good\n",
      "=> Found 500 images\n",
      "  => Training: 450\n",
      "  => Validation 50\n",
      "  => Labeling them with: good (1)\n"
     ]
    }
   ],
   "source": [
    "# Load image paths\n",
    "image_paths = load_image_paths_by_subfolder(\n",
    "    image_dir,\n",
    "    validation_ratio,\n",
    "    skip_folder,\n",
    "    use_subfolder=True\n",
    ")\n",
    "\n",
    "# Make sure we have enough images to fill at least one training/validation batch\n",
    "if image_paths['training_image_count'] < batch_size:\n",
    "    print 'Not enough training images in \\'%s\\'' %image_dir\n",
    "\n",
    "if image_paths['validation_image_count'] < batch_size:\n",
    "    print 'Not enough validation images in \\'%s\\'' %image_dir"
   ]
  },
  {
   "cell_type": "code",
   "execution_count": 5,
   "metadata": {
    "collapsed": false
   },
   "outputs": [],
   "source": [
    "# Retrain\n",
    "trainer = Retrainer(model_def, image_paths)\n",
    "trainer.run(\n",
    "    finetune_layers,\n",
    "    num_epochs,\n",
    "    learning_rate,\n",
    "    batch_size,\n",
    "    dropout_keep_prop,\n",
    "    memory_usage=memory_usage,\n",
    "    # device=device\n",
    ")"
   ]
  }
 ],
 "metadata": {
  "kernelspec": {
   "display_name": "Python 2",
   "language": "python",
   "name": "python2"
  },
  "language_info": {
   "codemirror_mode": {
    "name": "ipython",
    "version": 2
   },
   "file_extension": ".py",
   "mimetype": "text/x-python",
   "name": "python",
   "nbconvert_exporter": "python",
   "pygments_lexer": "ipython2",
   "version": "2.7.13"
  }
 },
 "nbformat": 4,
 "nbformat_minor": 0
}
