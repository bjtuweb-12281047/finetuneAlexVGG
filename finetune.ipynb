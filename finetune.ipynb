{
 "cells": [
  {
   "cell_type": "code",
   "execution_count": 1,
   "metadata": {
    "collapsed": true
   },
   "outputs": [],
   "source": [
    "import tensorflow as tf\n",
    "\n",
    "from models.alexnet import AlexNet\n",
    "# from models.vgg import VGG\n",
    "# from models.vgg_slim import VGGslim\n",
    "# from models.inception_v3 import InceptionV3\n",
    "\n",
    "from helper.imageloader import load_image_paths_by_subfolder\n",
    "from helper.retrainer import Retrainer"
   ]
  },
  {
   "cell_type": "code",
   "execution_count": 2,
   "metadata": {
    "collapsed": true
   },
   "outputs": [],
   "source": [
    "# Set Model\n",
    "model_def = AlexNet\n",
    "\n",
    "# Input settings\n",
    "image_dir = '../../datasets/testing'\n",
    "validation_ratio = 10 # e.g. every 5th element = 1/5 = 0.2 = 20%\n",
    "skip_folder = ['yiwen']\n",
    "\n",
    "# Learning/Network params\n",
    "learning_rate = 0.005\n",
    "num_epochs = 20\n",
    "batch_size = 32\n",
    "dropout_keep_prop = 1.0 # [0.5]\n",
    "finetune_layers = ['fc6', 'fc7', 'fc8']\n",
    "\n",
    "# Hardware usage\n",
    "device = '/cpu:0'\n",
    "memory_usage = 1.0"
   ]
  },
  {
   "cell_type": "code",
   "execution_count": 3,
   "metadata": {
    "collapsed": false
   },
   "outputs": [
    {
     "name": "stdout",
     "output_type": "stream",
     "text": [
      "Looking for images in bad\n",
      "=> Found 500 images\n",
      "  => Training: 450\n",
      "  => Validation 50\n",
      "  => Labeling them with: bad (0)\n",
      "Looking for images in good\n",
      "=> Found 500 images\n",
      "  => Training: 450\n",
      "  => Validation 50\n",
      "  => Labeling them with: good (1)\n"
     ]
    }
   ],
   "source": [
    "# Load image paths\n",
    "image_paths = load_image_paths_by_subfolder(\n",
    "    image_dir,\n",
    "    validation_ratio,\n",
    "    skip_folder,\n",
    "    use_subfolder=True\n",
    ")\n",
    "\n",
    "# Make sure we have enough images to fill at least one training/validation batch\n",
    "if image_paths['training_image_count'] < batch_size:\n",
    "    print 'Not enough training images in \\'%s\\'' %image_dir\n",
    "\n",
    "if image_paths['validation_image_count'] < batch_size:\n",
    "    print 'Not enough validation images in \\'%s\\'' %image_dir"
   ]
  },
  {
   "cell_type": "code",
   "execution_count": 4,
   "metadata": {
    "collapsed": false
   },
   "outputs": [
    {
     "name": "stdout",
     "output_type": "stream",
     "text": [
      "=> Will Restore:\n",
      "  => <tf.Variable 'conv1/weights:0' shape=(11, 11, 3, 96) dtype=float32_ref>\n",
      "  => <tf.Variable 'conv1/biases:0' shape=(96,) dtype=float32_ref>\n",
      "  => <tf.Variable 'conv2/weights:0' shape=(5, 5, 48, 256) dtype=float32_ref>\n",
      "  => <tf.Variable 'conv2/biases:0' shape=(256,) dtype=float32_ref>\n",
      "  => <tf.Variable 'conv3/weights:0' shape=(3, 3, 256, 384) dtype=float32_ref>\n",
      "  => <tf.Variable 'conv3/biases:0' shape=(384,) dtype=float32_ref>\n",
      "  => <tf.Variable 'conv4/weights:0' shape=(3, 3, 192, 384) dtype=float32_ref>\n",
      "  => <tf.Variable 'conv4/biases:0' shape=(384,) dtype=float32_ref>\n",
      "  => <tf.Variable 'conv5/weights:0' shape=(3, 3, 192, 256) dtype=float32_ref>\n",
      "  => <tf.Variable 'conv5/biases:0' shape=(256,) dtype=float32_ref>\n",
      "=> Will train:\n",
      "  => <tf.Variable 'fc6/weights:0' shape=(9216, 4096) dtype=float32_ref>\n",
      "  => <tf.Variable 'fc6/biases:0' shape=(4096,) dtype=float32_ref>\n",
      "  => <tf.Variable 'fc7/weights:0' shape=(4096, 4096) dtype=float32_ref>\n",
      "  => <tf.Variable 'fc7/biases:0' shape=(4096,) dtype=float32_ref>\n",
      "  => <tf.Variable 'fc8/weights:0' shape=(4096, 2) dtype=float32_ref>\n",
      "  => <tf.Variable 'fc8/biases:0' shape=(2,) dtype=float32_ref>\n",
      "=> Learningrate: 0.0050\n",
      "=> Batchsize: 32\n",
      "=> Dropout: 0.0000\n",
      "##################################\n",
      "=> Restoring weights from numpy file: ./weights/bvlc_alexnet.npy\n",
      "2017-10-03 22:20:53.361642 Epoch number: 1\n",
      "2017-10-03 22:20:53.362101 Start training...\n",
      "2017-10-03 22:21:31.689822 Start validation...\n",
      "2017-10-03 22:21:35.010682 Validation Accuracy = 0.4791666667\n",
      "2017-10-03 22:21:35.017060 Epoch number: 2\n",
      "2017-10-03 22:21:35.017124 Start training...\n",
      "2017-10-03 22:22:13.719673 Start validation...\n",
      "2017-10-03 22:22:17.075630 Validation Accuracy = 0.4791666667\n",
      "2017-10-03 22:22:17.081772 Epoch number: 3\n",
      "2017-10-03 22:22:17.081848 Start training...\n"
     ]
    },
    {
     "ename": "KeyboardInterrupt",
     "evalue": "",
     "output_type": "error",
     "traceback": [
      "\u001b[0;31m---------------------------------------------------------------------------\u001b[0m",
      "\u001b[0;31mKeyboardInterrupt\u001b[0m                         Traceback (most recent call last)",
      "\u001b[0;32m<ipython-input-4-17e47fa005b9>\u001b[0m in \u001b[0;36m<module>\u001b[0;34m()\u001b[0m\n\u001b[1;32m     10\u001b[0m     \u001b[0mdevice\u001b[0m\u001b[0;34m=\u001b[0m\u001b[0mdevice\u001b[0m\u001b[0;34m,\u001b[0m\u001b[0;34m\u001b[0m\u001b[0m\n\u001b[1;32m     11\u001b[0m     \u001b[0mshow_misclassified\u001b[0m\u001b[0;34m=\u001b[0m\u001b[0mTrue\u001b[0m\u001b[0;34m,\u001b[0m\u001b[0;34m\u001b[0m\u001b[0m\n\u001b[0;32m---> 12\u001b[0;31m     \u001b[0mvalidate_on_each_epoch\u001b[0m\u001b[0;34m=\u001b[0m\u001b[0mTrue\u001b[0m\u001b[0;34m\u001b[0m\u001b[0m\n\u001b[0m\u001b[1;32m     13\u001b[0m )\n",
      "\u001b[0;32m/Users/philipp/Uni/Masterarbeit/code/finetuneAlexVGG/helper/retrainer.py\u001b[0m in \u001b[0;36mrun\u001b[0;34m(self, finetune_layers, epochs, learning_rate, batch_size, keep_prob, memory_usage, device, show_misclassified, validate_on_each_epoch, ckpt_file)\u001b[0m\n\u001b[1;32m    236\u001b[0m                     \u001b[0mepoch\u001b[0m\u001b[0;34m,\u001b[0m\u001b[0;34m\u001b[0m\u001b[0m\n\u001b[1;32m    237\u001b[0m                     \u001b[0msummary_op\u001b[0m\u001b[0;34m,\u001b[0m\u001b[0;34m\u001b[0m\u001b[0m\n\u001b[0;32m--> 238\u001b[0;31m                     \u001b[0mwriter\u001b[0m\u001b[0;34m\u001b[0m\u001b[0m\n\u001b[0m\u001b[1;32m    239\u001b[0m                 )\n\u001b[1;32m    240\u001b[0m \u001b[0;34m\u001b[0m\u001b[0m\n",
      "\u001b[0;32m/Users/philipp/Uni/Masterarbeit/code/finetuneAlexVGG/helper/retrainer.py\u001b[0m in \u001b[0;36mrun_training\u001b[0;34m(self, sess, train_op, iterator_op, get_next_batch_op, ph_images, ph_labels, ph_keep_prob, keep_prob, batches, epoch, summary_op, writer)\u001b[0m\n\u001b[1;32m    285\u001b[0m             sess.run(\n\u001b[1;32m    286\u001b[0m                 \u001b[0mtrain_op\u001b[0m\u001b[0;34m,\u001b[0m\u001b[0;34m\u001b[0m\u001b[0m\n\u001b[0;32m--> 287\u001b[0;31m                 \u001b[0mfeed_dict\u001b[0m\u001b[0;34m=\u001b[0m\u001b[0;34m{\u001b[0m\u001b[0mph_images\u001b[0m\u001b[0;34m:\u001b[0m \u001b[0mimg_batch\u001b[0m\u001b[0;34m,\u001b[0m \u001b[0mph_labels\u001b[0m\u001b[0;34m:\u001b[0m \u001b[0mlabel_batch\u001b[0m\u001b[0;34m,\u001b[0m \u001b[0mph_keep_prob\u001b[0m\u001b[0;34m:\u001b[0m \u001b[0mkeep_prob\u001b[0m\u001b[0;34m}\u001b[0m\u001b[0;34m\u001b[0m\u001b[0m\n\u001b[0m\u001b[1;32m    288\u001b[0m             )\n\u001b[1;32m    289\u001b[0m \u001b[0;34m\u001b[0m\u001b[0m\n",
      "\u001b[0;32m/Users/philipp/Envs/tf/lib/python2.7/site-packages/tensorflow/python/client/session.pyc\u001b[0m in \u001b[0;36mrun\u001b[0;34m(self, fetches, feed_dict, options, run_metadata)\u001b[0m\n\u001b[1;32m    893\u001b[0m     \u001b[0;32mtry\u001b[0m\u001b[0;34m:\u001b[0m\u001b[0;34m\u001b[0m\u001b[0m\n\u001b[1;32m    894\u001b[0m       result = self._run(None, fetches, feed_dict, options_ptr,\n\u001b[0;32m--> 895\u001b[0;31m                          run_metadata_ptr)\n\u001b[0m\u001b[1;32m    896\u001b[0m       \u001b[0;32mif\u001b[0m \u001b[0mrun_metadata\u001b[0m\u001b[0;34m:\u001b[0m\u001b[0;34m\u001b[0m\u001b[0m\n\u001b[1;32m    897\u001b[0m         \u001b[0mproto_data\u001b[0m \u001b[0;34m=\u001b[0m \u001b[0mtf_session\u001b[0m\u001b[0;34m.\u001b[0m\u001b[0mTF_GetBuffer\u001b[0m\u001b[0;34m(\u001b[0m\u001b[0mrun_metadata_ptr\u001b[0m\u001b[0;34m)\u001b[0m\u001b[0;34m\u001b[0m\u001b[0m\n",
      "\u001b[0;32m/Users/philipp/Envs/tf/lib/python2.7/site-packages/tensorflow/python/client/session.pyc\u001b[0m in \u001b[0;36m_run\u001b[0;34m(self, handle, fetches, feed_dict, options, run_metadata)\u001b[0m\n\u001b[1;32m   1122\u001b[0m     \u001b[0;32mif\u001b[0m \u001b[0mfinal_fetches\u001b[0m \u001b[0;32mor\u001b[0m \u001b[0mfinal_targets\u001b[0m \u001b[0;32mor\u001b[0m \u001b[0;34m(\u001b[0m\u001b[0mhandle\u001b[0m \u001b[0;32mand\u001b[0m \u001b[0mfeed_dict_tensor\u001b[0m\u001b[0;34m)\u001b[0m\u001b[0;34m:\u001b[0m\u001b[0;34m\u001b[0m\u001b[0m\n\u001b[1;32m   1123\u001b[0m       results = self._do_run(handle, final_targets, final_fetches,\n\u001b[0;32m-> 1124\u001b[0;31m                              feed_dict_tensor, options, run_metadata)\n\u001b[0m\u001b[1;32m   1125\u001b[0m     \u001b[0;32melse\u001b[0m\u001b[0;34m:\u001b[0m\u001b[0;34m\u001b[0m\u001b[0m\n\u001b[1;32m   1126\u001b[0m       \u001b[0mresults\u001b[0m \u001b[0;34m=\u001b[0m \u001b[0;34m[\u001b[0m\u001b[0;34m]\u001b[0m\u001b[0;34m\u001b[0m\u001b[0m\n",
      "\u001b[0;32m/Users/philipp/Envs/tf/lib/python2.7/site-packages/tensorflow/python/client/session.pyc\u001b[0m in \u001b[0;36m_do_run\u001b[0;34m(self, handle, target_list, fetch_list, feed_dict, options, run_metadata)\u001b[0m\n\u001b[1;32m   1319\u001b[0m     \u001b[0;32mif\u001b[0m \u001b[0mhandle\u001b[0m \u001b[0;32mis\u001b[0m \u001b[0mNone\u001b[0m\u001b[0;34m:\u001b[0m\u001b[0;34m\u001b[0m\u001b[0m\n\u001b[1;32m   1320\u001b[0m       return self._do_call(_run_fn, self._session, feeds, fetches, targets,\n\u001b[0;32m-> 1321\u001b[0;31m                            options, run_metadata)\n\u001b[0m\u001b[1;32m   1322\u001b[0m     \u001b[0;32melse\u001b[0m\u001b[0;34m:\u001b[0m\u001b[0;34m\u001b[0m\u001b[0m\n\u001b[1;32m   1323\u001b[0m       \u001b[0;32mreturn\u001b[0m \u001b[0mself\u001b[0m\u001b[0;34m.\u001b[0m\u001b[0m_do_call\u001b[0m\u001b[0;34m(\u001b[0m\u001b[0m_prun_fn\u001b[0m\u001b[0;34m,\u001b[0m \u001b[0mself\u001b[0m\u001b[0;34m.\u001b[0m\u001b[0m_session\u001b[0m\u001b[0;34m,\u001b[0m \u001b[0mhandle\u001b[0m\u001b[0;34m,\u001b[0m \u001b[0mfeeds\u001b[0m\u001b[0;34m,\u001b[0m \u001b[0mfetches\u001b[0m\u001b[0;34m)\u001b[0m\u001b[0;34m\u001b[0m\u001b[0m\n",
      "\u001b[0;32m/Users/philipp/Envs/tf/lib/python2.7/site-packages/tensorflow/python/client/session.pyc\u001b[0m in \u001b[0;36m_do_call\u001b[0;34m(self, fn, *args)\u001b[0m\n\u001b[1;32m   1325\u001b[0m   \u001b[0;32mdef\u001b[0m \u001b[0m_do_call\u001b[0m\u001b[0;34m(\u001b[0m\u001b[0mself\u001b[0m\u001b[0;34m,\u001b[0m \u001b[0mfn\u001b[0m\u001b[0;34m,\u001b[0m \u001b[0;34m*\u001b[0m\u001b[0margs\u001b[0m\u001b[0;34m)\u001b[0m\u001b[0;34m:\u001b[0m\u001b[0;34m\u001b[0m\u001b[0m\n\u001b[1;32m   1326\u001b[0m     \u001b[0;32mtry\u001b[0m\u001b[0;34m:\u001b[0m\u001b[0;34m\u001b[0m\u001b[0m\n\u001b[0;32m-> 1327\u001b[0;31m       \u001b[0;32mreturn\u001b[0m \u001b[0mfn\u001b[0m\u001b[0;34m(\u001b[0m\u001b[0;34m*\u001b[0m\u001b[0margs\u001b[0m\u001b[0;34m)\u001b[0m\u001b[0;34m\u001b[0m\u001b[0m\n\u001b[0m\u001b[1;32m   1328\u001b[0m     \u001b[0;32mexcept\u001b[0m \u001b[0merrors\u001b[0m\u001b[0;34m.\u001b[0m\u001b[0mOpError\u001b[0m \u001b[0;32mas\u001b[0m \u001b[0me\u001b[0m\u001b[0;34m:\u001b[0m\u001b[0;34m\u001b[0m\u001b[0m\n\u001b[1;32m   1329\u001b[0m       \u001b[0mmessage\u001b[0m \u001b[0;34m=\u001b[0m \u001b[0mcompat\u001b[0m\u001b[0;34m.\u001b[0m\u001b[0mas_text\u001b[0m\u001b[0;34m(\u001b[0m\u001b[0me\u001b[0m\u001b[0;34m.\u001b[0m\u001b[0mmessage\u001b[0m\u001b[0;34m)\u001b[0m\u001b[0;34m\u001b[0m\u001b[0m\n",
      "\u001b[0;32m/Users/philipp/Envs/tf/lib/python2.7/site-packages/tensorflow/python/client/session.pyc\u001b[0m in \u001b[0;36m_run_fn\u001b[0;34m(session, feed_dict, fetch_list, target_list, options, run_metadata)\u001b[0m\n\u001b[1;32m   1304\u001b[0m           return tf_session.TF_Run(session, options,\n\u001b[1;32m   1305\u001b[0m                                    \u001b[0mfeed_dict\u001b[0m\u001b[0;34m,\u001b[0m \u001b[0mfetch_list\u001b[0m\u001b[0;34m,\u001b[0m \u001b[0mtarget_list\u001b[0m\u001b[0;34m,\u001b[0m\u001b[0;34m\u001b[0m\u001b[0m\n\u001b[0;32m-> 1306\u001b[0;31m                                    status, run_metadata)\n\u001b[0m\u001b[1;32m   1307\u001b[0m \u001b[0;34m\u001b[0m\u001b[0m\n\u001b[1;32m   1308\u001b[0m     \u001b[0;32mdef\u001b[0m \u001b[0m_prun_fn\u001b[0m\u001b[0;34m(\u001b[0m\u001b[0msession\u001b[0m\u001b[0;34m,\u001b[0m \u001b[0mhandle\u001b[0m\u001b[0;34m,\u001b[0m \u001b[0mfeed_dict\u001b[0m\u001b[0;34m,\u001b[0m \u001b[0mfetch_list\u001b[0m\u001b[0;34m)\u001b[0m\u001b[0;34m:\u001b[0m\u001b[0;34m\u001b[0m\u001b[0m\n",
      "\u001b[0;31mKeyboardInterrupt\u001b[0m: "
     ]
    }
   ],
   "source": [
    "# Retrain\n",
    "trainer = Retrainer(model_def, image_paths)\n",
    "trainer.run(\n",
    "    finetune_layers,\n",
    "    num_epochs,\n",
    "    learning_rate,\n",
    "    batch_size,\n",
    "    dropout_keep_prop,\n",
    "    memory_usage=memory_usage,\n",
    "    device=device,\n",
    "    show_misclassified=True,\n",
    "    validate_on_each_epoch=True\n",
    ")"
   ]
  },
  {
   "cell_type": "code",
   "execution_count": null,
   "metadata": {
    "collapsed": true
   },
   "outputs": [],
   "source": []
  }
 ],
 "metadata": {
  "kernelspec": {
   "display_name": "Python 2",
   "language": "python",
   "name": "python2"
  },
  "language_info": {
   "codemirror_mode": {
    "name": "ipython",
    "version": 2
   },
   "file_extension": ".py",
   "mimetype": "text/x-python",
   "name": "python",
   "nbconvert_exporter": "python",
   "pygments_lexer": "ipython2",
   "version": "2.7.13"
  }
 },
 "nbformat": 4,
 "nbformat_minor": 0
}
