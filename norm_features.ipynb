{
 "cells": [
  {
   "cell_type": "code",
   "execution_count": 1,
   "metadata": {
    "collapsed": true
   },
   "outputs": [],
   "source": [
    "import helper.data_provider as data_provider\n",
    "from sklearn.preprocessing import normalize as normalize"
   ]
  },
  {
   "cell_type": "code",
   "execution_count": 2,
   "metadata": {
    "collapsed": true
   },
   "outputs": [],
   "source": [
    "feat_dir = '../features/resize_crop/res2'\n",
    "validation_ratio = 0\n",
    "skip_folder = ['yiwen']"
   ]
  },
  {
   "cell_type": "code",
   "execution_count": 3,
   "metadata": {
    "collapsed": false
   },
   "outputs": [
    {
     "name": "stdout",
     "output_type": "stream",
     "text": [
      "=> Label: bad (0) [Files: 500 Total, 500 Training, 0 Validation]\n",
      "=> Label: good (1) [Files: 500 Total, 500 Training, 0 Validation]\n",
      "\n"
     ]
    }
   ],
   "source": [
    "data = data_provider.load_features_by_subfolder(\n",
    "    feat_dir,\n",
    "    validation_ratio=validation_ratio,\n",
    "    skip_folder=skip_folder,\n",
    "    use_subfolder=True\n",
    ")"
   ]
  },
  {
   "cell_type": "code",
   "execution_count": 4,
   "metadata": {
    "collapsed": true
   },
   "outputs": [],
   "source": [
    "root_dir    = '../features/resize_crop/res2'\n",
    "new_dir = '../features/resize_crop/res2-norm'\n",
    "\n",
    "for read_path in data['training_paths']:\n",
    "    read_file = open(read_path, 'r')\n",
    "    lines = read_file.readlines()\n",
    "    feat = [[float(l) for l in lines]]\n",
    "    feat = normalize(feat, norm='l2', axis=1, copy=False)\n",
    "    \n",
    "    write_path = read_path.replace(root_dir, new_dir)\n",
    "    feat_string = '\\n'.join(\"{:.16f}\".format(x) for x in feat[0])\n",
    "    with open(write_path, 'w') as write_file:\n",
    "        write_file.write(feat_string)"
   ]
  },
  {
   "cell_type": "code",
   "execution_count": null,
   "metadata": {
    "collapsed": true
   },
   "outputs": [],
   "source": []
  }
 ],
 "metadata": {
  "kernelspec": {
   "display_name": "Python 2",
   "language": "python",
   "name": "python2"
  },
  "language_info": {
   "codemirror_mode": {
    "name": "ipython",
    "version": 2
   },
   "file_extension": ".py",
   "mimetype": "text/x-python",
   "name": "python",
   "nbconvert_exporter": "python",
   "pygments_lexer": "ipython2",
   "version": "2.7.13"
  }
 },
 "nbformat": 4,
 "nbformat_minor": 0
}
