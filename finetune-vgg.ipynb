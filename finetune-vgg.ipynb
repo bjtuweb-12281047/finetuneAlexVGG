{
 "cells": [
  {
   "cell_type": "code",
   "execution_count": 1,
   "metadata": {
    "collapsed": true
   },
   "outputs": [],
   "source": [
    "import tensorflow as tf\n",
    "\n",
    "# from models.alexnet import AlexNet\n",
    "from models.vgg import VGG\n",
    "# from models.vgg_slim import VGGslim\n",
    "# from models.inception_v3 import InceptionV3\n",
    "\n",
    "from helper.imageloader import load_image_paths_by_subfolder\n",
    "from helper.retrainer import Retrainer"
   ]
  },
  {
   "cell_type": "code",
   "execution_count": 2,
   "metadata": {
    "collapsed": true
   },
   "outputs": [],
   "source": [
    "# Set Model\n",
    "model_def = VGG\n",
    "checkpoint_path = '../checkpoints/vgg'\n",
    "\n",
    "# Input settings\n",
    "image_dir = '../../datasets/CUHKPQ'\n",
    "validation_ratio = 2 # 50%\n",
    "skip_folder = ['yiwen']\n",
    "\n",
    "# Learning/Network params\n",
    "learning_rate = 0.005\n",
    "num_epochs = 200\n",
    "batch_size = 32\n",
    "dropout_keep_prop = 1.0 # [0.5]\n",
    "finetune_layers = ['fc6', 'fc7', 'fc8']\n",
    "\n",
    "# Hardware usage\n",
    "device = '/cpu:0'\n",
    "memory_usage = 0.4"
   ]
  },
  {
   "cell_type": "code",
   "execution_count": 3,
   "metadata": {
    "collapsed": false
   },
   "outputs": [
    {
     "name": "stdout",
     "output_type": "stream",
     "text": [
      "Looking for images in HighQuality\n",
      "=> Found 4524 images\n",
      "  => Training: 2262\n",
      "  => Validation 2262\n",
      "  => Labeling them with: highquality (0)\n",
      "Looking for images in LowQuality\n",
      "=> Found 13166 images\n",
      "  => Training: 6583\n",
      "  => Validation 6583\n",
      "  => Labeling them with: lowquality (1)\n"
     ]
    }
   ],
   "source": [
    "# Load image paths\n",
    "image_paths = load_image_paths_by_subfolder(\n",
    "    image_dir,\n",
    "    validation_ratio,\n",
    "    skip_folder,\n",
    "    use_subfolder=True\n",
    ")"
   ]
  },
  {
   "cell_type": "code",
   "execution_count": null,
   "metadata": {
    "collapsed": false
   },
   "outputs": [
    {
     "name": "stdout",
     "output_type": "stream",
     "text": [
      "=> Will Restore:\n",
      "  => <tf.Variable 'conv1_1/weights:0' shape=(3, 3, 3, 64) dtype=float32_ref>\n",
      "  => <tf.Variable 'conv1_1/biases:0' shape=(64,) dtype=float32_ref>\n",
      "  => <tf.Variable 'conv1_2/weights:0' shape=(3, 3, 64, 64) dtype=float32_ref>\n",
      "  => <tf.Variable 'conv1_2/biases:0' shape=(64,) dtype=float32_ref>\n",
      "  => <tf.Variable 'conv2_1/weights:0' shape=(3, 3, 64, 128) dtype=float32_ref>\n",
      "  => <tf.Variable 'conv2_1/biases:0' shape=(128,) dtype=float32_ref>\n",
      "  => <tf.Variable 'conv2_2/weights:0' shape=(3, 3, 128, 128) dtype=float32_ref>\n",
      "  => <tf.Variable 'conv2_2/biases:0' shape=(128,) dtype=float32_ref>\n",
      "  => <tf.Variable 'conv3_1/weights:0' shape=(3, 3, 128, 256) dtype=float32_ref>\n",
      "  => <tf.Variable 'conv3_1/biases:0' shape=(256,) dtype=float32_ref>\n",
      "  => <tf.Variable 'conv3_2/weights:0' shape=(3, 3, 256, 256) dtype=float32_ref>\n",
      "  => <tf.Variable 'conv3_2/biases:0' shape=(256,) dtype=float32_ref>\n",
      "  => <tf.Variable 'conv3_3/weights:0' shape=(3, 3, 256, 256) dtype=float32_ref>\n",
      "  => <tf.Variable 'conv3_3/biases:0' shape=(256,) dtype=float32_ref>\n",
      "  => <tf.Variable 'conv4_1/weights:0' shape=(3, 3, 256, 512) dtype=float32_ref>\n",
      "  => <tf.Variable 'conv4_1/biases:0' shape=(512,) dtype=float32_ref>\n",
      "  => <tf.Variable 'conv4_2/weights:0' shape=(3, 3, 512, 512) dtype=float32_ref>\n",
      "  => <tf.Variable 'conv4_2/biases:0' shape=(512,) dtype=float32_ref>\n",
      "  => <tf.Variable 'conv4_3/weights:0' shape=(3, 3, 512, 512) dtype=float32_ref>\n",
      "  => <tf.Variable 'conv4_3/biases:0' shape=(512,) dtype=float32_ref>\n",
      "  => <tf.Variable 'conv5_1/weights:0' shape=(3, 3, 512, 512) dtype=float32_ref>\n",
      "  => <tf.Variable 'conv5_1/biases:0' shape=(512,) dtype=float32_ref>\n",
      "  => <tf.Variable 'conv5_2/weights:0' shape=(3, 3, 512, 512) dtype=float32_ref>\n",
      "  => <tf.Variable 'conv5_2/biases:0' shape=(512,) dtype=float32_ref>\n",
      "  => <tf.Variable 'conv5_3/weights:0' shape=(3, 3, 512, 512) dtype=float32_ref>\n",
      "  => <tf.Variable 'conv5_3/biases:0' shape=(512,) dtype=float32_ref>\n",
      "=> Will train:\n",
      "  => <tf.Variable 'fc6/weights:0' shape=(25088, 4096) dtype=float32_ref>\n",
      "  => <tf.Variable 'fc6/biases:0' shape=(4096,) dtype=float32_ref>\n",
      "  => <tf.Variable 'fc7/weights:0' shape=(4096, 4096) dtype=float32_ref>\n",
      "  => <tf.Variable 'fc7/biases:0' shape=(4096,) dtype=float32_ref>\n",
      "  => <tf.Variable 'fc8/weights:0' shape=(4096, 2) dtype=float32_ref>\n",
      "  => <tf.Variable 'fc8/biases:0' shape=(2,) dtype=float32_ref>\n",
      "=> Learningrate: 0.0050\n",
      "=> Batchsize: 32\n",
      "=> Dropout: 0.0000\n",
      "##################################\n",
      "=> Restoring weights from numpy file: ./weights/vgg16.npy\n",
      "2017-10-05 00:45:39.343350 Epoch number: 1"
     ]
    }
   ],
   "source": [
    "# Retrain\n",
    "trainer = Retrainer(model_def, image_paths)\n",
    "trainer.run(\n",
    "    finetune_layers=finetune_layers,\n",
    "    epochs=num_epochs,\n",
    "    learning_rate=learning_rate,\n",
    "    batch_size=batch_size,\n",
    "    keep_prob=dropout_keep_prop,\n",
    "    memory_usage=memory_usage,\n",
    "    device=device,\n",
    "    show_misclassified=True,\n",
    "    validate_on_each_epoch=True,\n",
    "    save_ckpt_dir=checkpoint_path \n",
    ")"
   ]
  },
  {
   "cell_type": "code",
   "execution_count": null,
   "metadata": {
    "collapsed": true
   },
   "outputs": [],
   "source": []
  }
 ],
 "metadata": {
  "kernelspec": {
   "display_name": "Python 2",
   "language": "python",
   "name": "python2"
  },
  "language_info": {
   "codemirror_mode": {
    "name": "ipython",
    "version": 2
   },
   "file_extension": ".py",
   "mimetype": "text/x-python",
   "name": "python",
   "nbconvert_exporter": "python",
   "pygments_lexer": "ipython2",
   "version": "2.7.13"
  }
 },
 "nbformat": 4,
 "nbformat_minor": 1
}
